{
  "cells": [
    {
      "cell_type": "code",
      "execution_count": null,
      "metadata": {
        "id": "FEp4lvkamgE1"
      },
      "outputs": [],
      "source": [
        "import numpy as np\n",
        "import pandas as pd\n",
        "import matplotlib.pyplot as plt\n",
        "import seaborn as sns\n",
        "from sklearn import metrics\n",
        "from sklearn.cross_decomposition import CCA\n",
        "import math\n",
        "from sklearn.metrics import r2_score"
      ]
    },
    {
      "cell_type": "code",
      "execution_count": null,
      "metadata": {
        "id": "kcK8h-H7mkjs"
      },
      "outputs": [],
      "source": [
        "dataset = pd.read_csv('survey.csv')"
      ]
    },
    {
      "cell_type": "code",
      "execution_count": null,
      "metadata": {
        "id": "-ExIiurb3Kb2"
      },
      "outputs": [],
      "source": []
    },
    {
      "cell_type": "code",
      "execution_count": null,
      "metadata": {
        "colab": {
          "base_uri": "https://localhost:8080/",
          "height": 300
        },
        "id": "7nKtmMZ4mnhE",
        "outputId": "f0734caf-9561-455d-c0cd-5d65550d7336"
      },
      "outputs": [
        {
          "data": {
            "text/html": [
              "\n",
              "  <div id=\"df-40e6e83d-f44a-4796-b58d-d0405f38f0e8\">\n",
              "    <div class=\"colab-df-container\">\n",
              "      <div>\n",
              "<style scoped>\n",
              "    .dataframe tbody tr th:only-of-type {\n",
              "        vertical-align: middle;\n",
              "    }\n",
              "\n",
              "    .dataframe tbody tr th {\n",
              "        vertical-align: top;\n",
              "    }\n",
              "\n",
              "    .dataframe thead th {\n",
              "        text-align: right;\n",
              "    }\n",
              "</style>\n",
              "<table border=\"1\" class=\"dataframe\">\n",
              "  <thead>\n",
              "    <tr style=\"text-align: right;\">\n",
              "      <th></th>\n",
              "      <th>Age</th>\n",
              "      <th>Gender</th>\n",
              "      <th>Ayear</th>\n",
              "      <th>scl_med_t</th>\n",
              "      <th>free_time</th>\n",
              "      <th>frnd_prsnl</th>\n",
              "      <th>scl_sprt_v_prsnl</th>\n",
              "      <th>scl_spc_cnt_ppl</th>\n",
              "      <th>scl_md_lmt</th>\n",
              "      <th>scl_md_mt_frn</th>\n",
              "      <th>...</th>\n",
              "      <th>lnl_12</th>\n",
              "      <th>lnl_13</th>\n",
              "      <th>lnl_14</th>\n",
              "      <th>lnl_15</th>\n",
              "      <th>lnl_16</th>\n",
              "      <th>lnl_17</th>\n",
              "      <th>lnl_18</th>\n",
              "      <th>lnl_19</th>\n",
              "      <th>lnl_20</th>\n",
              "      <th>lnl_ol</th>\n",
              "    </tr>\n",
              "  </thead>\n",
              "  <tbody>\n",
              "    <tr>\n",
              "      <th>0</th>\n",
              "      <td>19</td>\n",
              "      <td>0</td>\n",
              "      <td>3</td>\n",
              "      <td>1</td>\n",
              "      <td>3</td>\n",
              "      <td>1</td>\n",
              "      <td>2</td>\n",
              "      <td>1</td>\n",
              "      <td>2</td>\n",
              "      <td>3</td>\n",
              "      <td>...</td>\n",
              "      <td>2</td>\n",
              "      <td>3</td>\n",
              "      <td>3</td>\n",
              "      <td>3</td>\n",
              "      <td>4</td>\n",
              "      <td>2</td>\n",
              "      <td>2</td>\n",
              "      <td>4</td>\n",
              "      <td>4</td>\n",
              "      <td>41</td>\n",
              "    </tr>\n",
              "    <tr>\n",
              "      <th>1</th>\n",
              "      <td>19</td>\n",
              "      <td>1</td>\n",
              "      <td>1</td>\n",
              "      <td>1</td>\n",
              "      <td>3</td>\n",
              "      <td>2</td>\n",
              "      <td>1</td>\n",
              "      <td>2</td>\n",
              "      <td>2</td>\n",
              "      <td>3</td>\n",
              "      <td>...</td>\n",
              "      <td>2</td>\n",
              "      <td>2</td>\n",
              "      <td>3</td>\n",
              "      <td>2</td>\n",
              "      <td>3</td>\n",
              "      <td>3</td>\n",
              "      <td>3</td>\n",
              "      <td>4</td>\n",
              "      <td>2</td>\n",
              "      <td>44</td>\n",
              "    </tr>\n",
              "    <tr>\n",
              "      <th>2</th>\n",
              "      <td>21</td>\n",
              "      <td>1</td>\n",
              "      <td>1</td>\n",
              "      <td>4</td>\n",
              "      <td>1</td>\n",
              "      <td>2</td>\n",
              "      <td>3</td>\n",
              "      <td>2</td>\n",
              "      <td>2</td>\n",
              "      <td>1</td>\n",
              "      <td>...</td>\n",
              "      <td>2</td>\n",
              "      <td>4</td>\n",
              "      <td>4</td>\n",
              "      <td>1</td>\n",
              "      <td>4</td>\n",
              "      <td>3</td>\n",
              "      <td>4</td>\n",
              "      <td>4</td>\n",
              "      <td>4</td>\n",
              "      <td>48</td>\n",
              "    </tr>\n",
              "    <tr>\n",
              "      <th>3</th>\n",
              "      <td>18</td>\n",
              "      <td>0</td>\n",
              "      <td>1</td>\n",
              "      <td>1</td>\n",
              "      <td>3</td>\n",
              "      <td>3</td>\n",
              "      <td>3</td>\n",
              "      <td>2</td>\n",
              "      <td>1</td>\n",
              "      <td>1</td>\n",
              "      <td>...</td>\n",
              "      <td>4</td>\n",
              "      <td>4</td>\n",
              "      <td>3</td>\n",
              "      <td>2</td>\n",
              "      <td>3</td>\n",
              "      <td>2</td>\n",
              "      <td>3</td>\n",
              "      <td>4</td>\n",
              "      <td>4</td>\n",
              "      <td>52</td>\n",
              "    </tr>\n",
              "    <tr>\n",
              "      <th>4</th>\n",
              "      <td>22</td>\n",
              "      <td>0</td>\n",
              "      <td>4</td>\n",
              "      <td>1</td>\n",
              "      <td>3</td>\n",
              "      <td>2</td>\n",
              "      <td>1</td>\n",
              "      <td>1</td>\n",
              "      <td>1</td>\n",
              "      <td>1</td>\n",
              "      <td>...</td>\n",
              "      <td>2</td>\n",
              "      <td>3</td>\n",
              "      <td>1</td>\n",
              "      <td>4</td>\n",
              "      <td>4</td>\n",
              "      <td>1</td>\n",
              "      <td>1</td>\n",
              "      <td>4</td>\n",
              "      <td>4</td>\n",
              "      <td>28</td>\n",
              "    </tr>\n",
              "  </tbody>\n",
              "</table>\n",
              "<p>5 rows × 44 columns</p>\n",
              "</div>\n",
              "      <button class=\"colab-df-convert\" onclick=\"convertToInteractive('df-40e6e83d-f44a-4796-b58d-d0405f38f0e8')\"\n",
              "              title=\"Convert this dataframe to an interactive table.\"\n",
              "              style=\"display:none;\">\n",
              "        \n",
              "  <svg xmlns=\"http://www.w3.org/2000/svg\" height=\"24px\"viewBox=\"0 0 24 24\"\n",
              "       width=\"24px\">\n",
              "    <path d=\"M0 0h24v24H0V0z\" fill=\"none\"/>\n",
              "    <path d=\"M18.56 5.44l.94 2.06.94-2.06 2.06-.94-2.06-.94-.94-2.06-.94 2.06-2.06.94zm-11 1L8.5 8.5l.94-2.06 2.06-.94-2.06-.94L8.5 2.5l-.94 2.06-2.06.94zm10 10l.94 2.06.94-2.06 2.06-.94-2.06-.94-.94-2.06-.94 2.06-2.06.94z\"/><path d=\"M17.41 7.96l-1.37-1.37c-.4-.4-.92-.59-1.43-.59-.52 0-1.04.2-1.43.59L10.3 9.45l-7.72 7.72c-.78.78-.78 2.05 0 2.83L4 21.41c.39.39.9.59 1.41.59.51 0 1.02-.2 1.41-.59l7.78-7.78 2.81-2.81c.8-.78.8-2.07 0-2.86zM5.41 20L4 18.59l7.72-7.72 1.47 1.35L5.41 20z\"/>\n",
              "  </svg>\n",
              "      </button>\n",
              "      \n",
              "  <style>\n",
              "    .colab-df-container {\n",
              "      display:flex;\n",
              "      flex-wrap:wrap;\n",
              "      gap: 12px;\n",
              "    }\n",
              "\n",
              "    .colab-df-convert {\n",
              "      background-color: #E8F0FE;\n",
              "      border: none;\n",
              "      border-radius: 50%;\n",
              "      cursor: pointer;\n",
              "      display: none;\n",
              "      fill: #1967D2;\n",
              "      height: 32px;\n",
              "      padding: 0 0 0 0;\n",
              "      width: 32px;\n",
              "    }\n",
              "\n",
              "    .colab-df-convert:hover {\n",
              "      background-color: #E2EBFA;\n",
              "      box-shadow: 0px 1px 2px rgba(60, 64, 67, 0.3), 0px 1px 3px 1px rgba(60, 64, 67, 0.15);\n",
              "      fill: #174EA6;\n",
              "    }\n",
              "\n",
              "    [theme=dark] .colab-df-convert {\n",
              "      background-color: #3B4455;\n",
              "      fill: #D2E3FC;\n",
              "    }\n",
              "\n",
              "    [theme=dark] .colab-df-convert:hover {\n",
              "      background-color: #434B5C;\n",
              "      box-shadow: 0px 1px 3px 1px rgba(0, 0, 0, 0.15);\n",
              "      filter: drop-shadow(0px 1px 2px rgba(0, 0, 0, 0.3));\n",
              "      fill: #FFFFFF;\n",
              "    }\n",
              "  </style>\n",
              "\n",
              "      <script>\n",
              "        const buttonEl =\n",
              "          document.querySelector('#df-40e6e83d-f44a-4796-b58d-d0405f38f0e8 button.colab-df-convert');\n",
              "        buttonEl.style.display =\n",
              "          google.colab.kernel.accessAllowed ? 'block' : 'none';\n",
              "\n",
              "        async function convertToInteractive(key) {\n",
              "          const element = document.querySelector('#df-40e6e83d-f44a-4796-b58d-d0405f38f0e8');\n",
              "          const dataTable =\n",
              "            await google.colab.kernel.invokeFunction('convertToInteractive',\n",
              "                                                     [key], {});\n",
              "          if (!dataTable) return;\n",
              "\n",
              "          const docLinkHtml = 'Like what you see? Visit the ' +\n",
              "            '<a target=\"_blank\" href=https://colab.research.google.com/notebooks/data_table.ipynb>data table notebook</a>'\n",
              "            + ' to learn more about interactive tables.';\n",
              "          element.innerHTML = '';\n",
              "          dataTable['output_type'] = 'display_data';\n",
              "          await google.colab.output.renderOutput(dataTable, element);\n",
              "          const docLink = document.createElement('div');\n",
              "          docLink.innerHTML = docLinkHtml;\n",
              "          element.appendChild(docLink);\n",
              "        }\n",
              "      </script>\n",
              "    </div>\n",
              "  </div>\n",
              "  "
            ],
            "text/plain": [
              "   Age  Gender  Ayear  scl_med_t  free_time  frnd_prsnl  scl_sprt_v_prsnl  \\\n",
              "0   19       0      3          1          3           1                 2   \n",
              "1   19       1      1          1          3           2                 1   \n",
              "2   21       1      1          4          1           2                 3   \n",
              "3   18       0      1          1          3           3                 3   \n",
              "4   22       0      4          1          3           2                 1   \n",
              "\n",
              "   scl_spc_cnt_ppl  scl_md_lmt  scl_md_mt_frn  ...  lnl_12  lnl_13  lnl_14  \\\n",
              "0                1           2              3  ...       2       3       3   \n",
              "1                2           2              3  ...       2       2       3   \n",
              "2                2           2              1  ...       2       4       4   \n",
              "3                2           1              1  ...       4       4       3   \n",
              "4                1           1              1  ...       2       3       1   \n",
              "\n",
              "   lnl_15  lnl_16  lnl_17  lnl_18  lnl_19  lnl_20  lnl_ol  \n",
              "0       3       4       2       2       4       4      41  \n",
              "1       2       3       3       3       4       2      44  \n",
              "2       1       4       3       4       4       4      48  \n",
              "3       2       3       2       3       4       4      52  \n",
              "4       4       4       1       1       4       4      28  \n",
              "\n",
              "[5 rows x 44 columns]"
            ]
          },
          "execution_count": 4,
          "metadata": {},
          "output_type": "execute_result"
        }
      ],
      "source": [
        "\n",
        "dataset.head()"
      ]
    },
    {
      "cell_type": "code",
      "execution_count": null,
      "metadata": {
        "id": "9ZIUebMlmpmq"
      },
      "outputs": [],
      "source": [
        "X = dataset[['scl_md_ol']]\n",
        "y = dataset['lnl_ol']"
      ]
    },
    {
      "cell_type": "code",
      "execution_count": null,
      "metadata": {
        "id": "0kDVWH8UmsF3"
      },
      "outputs": [],
      "source": [
        "from sklearn.model_selection import train_test_split\n",
        "X_train, X_test, y_train, y_test = train_test_split(X, y, test_size=0.4, random_state=101)"
      ]
    },
    {
      "cell_type": "code",
      "execution_count": null,
      "metadata": {
        "colab": {
          "base_uri": "https://localhost:8080/"
        },
        "id": "p5sjWc-WBeIx",
        "outputId": "357ec791-0e3f-4726-fa53-23fa51787158"
      },
      "outputs": [
        {
          "name": "stdout",
          "output_type": "stream",
          "text": [
            "     scl_md_ol\n",
            "165         17\n",
            "41          10\n",
            "95           9\n",
            "159         13\n",
            "13          12\n",
            "..         ...\n",
            "221         15\n",
            "176         13\n",
            "307         18\n",
            "253         14\n",
            "157         15\n",
            "\n",
            "[130 rows x 1 columns]\n"
          ]
        }
      ],
      "source": [
        "print(X_test)"
      ]
    },
    {
      "cell_type": "code",
      "execution_count": null,
      "metadata": {
        "colab": {
          "base_uri": "https://localhost:8080/",
          "height": 1000
        },
        "id": "hOHbJL8XmxZ_",
        "outputId": "eb1b11b2-55c7-4752-cc3f-7182304466e6"
      },
      "outputs": [
        {
          "name": "stdout",
          "output_type": "stream",
          "text": [
            "0.08432340548967399\n",
            "165    50\n",
            "41     39\n",
            "95     25\n",
            "159    36\n",
            "13     43\n",
            "       ..\n",
            "221    52\n",
            "176    40\n",
            "307    50\n",
            "253    51\n",
            "157    61\n",
            "Name: lnl_ol, Length: 130, dtype: int64 [47.62523704 44.4661569  44.01485973 45.82004839 45.36875122 51.23561435\n",
            " 45.36875122 42.66096824 47.17393988 44.01485973 46.27134555 45.36875122\n",
            " 45.36875122 43.56356257 43.11226541 48.0765342  44.91745406 44.91745406\n",
            " 45.36875122 46.72264271 44.4661569  45.36875122 49.43042569 44.4661569\n",
            " 44.91745406 45.36875122 43.56356257 44.4661569  46.27134555 42.66096824\n",
            " 43.56356257 45.82004839 43.11226541 46.27134555 46.72264271 48.52783137\n",
            " 46.27134555 45.36875122 45.82004839 44.01485973 45.36875122 44.91745406\n",
            " 45.82004839 45.36875122 49.88172286 48.52783137 44.91745406 42.66096824\n",
            " 43.11226541 43.56356257 47.62523704 44.4661569  47.62523704 46.72264271\n",
            " 42.66096824 44.4661569  48.0765342  47.17393988 44.4661569  46.27134555\n",
            " 48.52783137 50.33302002 45.82004839 43.11226541 44.01485973 42.66096824\n",
            " 45.36875122 44.01485973 42.66096824 44.91745406 48.0765342  48.0765342\n",
            " 47.62523704 47.17393988 47.17393988 42.66096824 45.36875122 46.72264271\n",
            " 44.01485973 47.17393988 42.66096824 45.36875122 48.0765342  48.0765342\n",
            " 44.4661569  44.91745406 46.72264271 51.68691151 45.82004839 48.97912853\n",
            " 49.43042569 49.88172286 50.78431719 46.27134555 45.36875122 44.01485973\n",
            " 42.66096824 46.72264271 44.4661569  44.01485973 44.91745406 44.4661569\n",
            " 44.01485973 44.91745406 47.17393988 48.52783137 48.0765342  42.66096824\n",
            " 44.01485973 45.36875122 46.72264271 43.11226541 42.66096824 48.0765342\n",
            " 47.17393988 45.36875122 48.52783137 48.0765342  48.52783137 45.36875122\n",
            " 45.36875122 45.36875122 45.82004839 48.0765342  43.56356257 46.72264271\n",
            " 45.82004839 48.0765342  46.27134555 46.72264271]\n"
          ]
        },
        {
          "data": {
            "image/png": "[encoded data removed]",
            "text/plain": [
              "<Figure size 640x480 with 1 Axes>"
            ]
          },
          "metadata": {},
          "output_type": "display_data"
        }
      ],
      "source": [
        "from sklearn.linear_model import LinearRegression\n",
        "reg_linear = LinearRegression()\n",
        "reg_linear.fit(X_train, y_train)\n",
        "y_pred_linear = reg_linear.predict(X_test)\n",
        "plt.scatter(y_test,y_pred_linear)\n",
        "print(r2_score(y_test, y_pred_linear))\n",
        "print(y_test,y_pred_linear)"
      ]
    },
    {
      "cell_type": "code",
      "execution_count": null,
      "metadata": {
        "colab": {
          "base_uri": "https://localhost:8080/",
          "height": 673
        },
        "id": "MG2Bsi8cmzlR",
        "outputId": "f9746fde-65ab-4f39-f64f-9291ea1dd19b"
      },
      "outputs": [
        {
          "name": "stdout",
          "output_type": "stream",
          "text": [
            "[19 13  7 13  8  6 11  9  9  6 19 13 11 12 19 12  6 15 12 14 23  8 15  6\n",
            " 17 24  8 18 12  8 13  7 10 12 12 19 18 12 21 17  8 10 23 11 19 10 22 15\n",
            "  7 17  8 12 21  8 15  6 10 12 14 11 18 16  7 11  6 12 13  6 17 11 12 23\n",
            " 15 18  9 14  8 15 16  6 15  7 14 24  6 12 10 18 29  6 14 15 25 15 22  9\n",
            " 25 18 16 13 17 20 16 15  9 16 12 10  7 12 14 13 16 12 13 19 14 12 10  6\n",
            "  9 22  8 17 10  9  6  9 12 14 12 18 18 16 15  6 14  6 14 12 17 15 15 12\n",
            "  7  7  7 19 14 11 18 12 10 19 15 11 15 15 12 13  9 10 26 14 14 17 13 19\n",
            "  8 25 22 16 11 11 16 14 13  8 12 18  9  6 12 14  7  7 10  9 12 18 14 12\n",
            "  8 13  9 12 17 23 11  7  6 19 15 19 13 30  8 19 18  8  8  6  8 18 14 16\n",
            " 18 14 13 22 17 15 20 11  8  9 11 15  6 21 16 21 17 11  9 23 19 12 16 14\n",
            " 19 11 18  7 24 14 12  9 11 20 20 20 10 14 11 12 12 22 11 14 14 30 19  9\n",
            " 17 16  7 18 13 18 10 20 22 23 18 12 10 12 17 10  6 11 10 17 20 15 12 15\n",
            "  8  9 19  6 21 11 11 12 10 13 12 14  7 19  7 11 16 14 16 18 23 13 18 29\n",
            "  6 13 12 13  6  6 20 26 18 11 14 16 18]\n"
          ]
        },
        {
          "data": {
            "image/png": "[encoded data removed]",
            "text/plain": [
              "<Figure size 640x480 with 1 Axes>"
            ]
          },
          "metadata": {},
          "output_type": "display_data"
        }
      ],
      "source": [
        "# plot \"Population\" vs \"Employed\"\n",
        "\n",
        "from matplotlib import pyplot\n",
        "import pandas as pd\n",
        "# load the dataset\n",
        "dataframe = pd.read_csv('survey.csv')\n",
        "data = dataframe.values\n",
        "# choose the input and output variables\n",
        "print(data[:,-22])\n",
        "x, y = data[:, -22\n",
        "            ], data[:, -1]\n",
        "# plot input vs output\n",
        "pyplot.scatter(x, y)\n",
        "pyplot.show()"
      ]
    },
    {
      "cell_type": "code",
      "execution_count": null,
      "metadata": {
        "id": "TdExYwxr3UcL"
      },
      "outputs": [],
      "source": [
        "# define the true objective function\n",
        "def objective(x, a, b):\n",
        "\treturn a * x + b"
      ]
    },
    {
      "cell_type": "code",
      "execution_count": null,
      "metadata": {
        "id": "grA7Hgmi47iY"
      },
      "outputs": [],
      "source": [
        "# objective function\n",
        "def objective(x, a, b, c):\n",
        "\treturn a * x + b"
      ]
    },
    {
      "cell_type": "code",
      "execution_count": null,
      "metadata": {
        "colab": {
          "base_uri": "https://localhost:8080/"
        },
        "id": "o1H9BwoQ4rXi",
        "outputId": "b045ad94-4258-4b40-b4d7-66ad7976861e"
      },
      "outputs": [
        {
          "name": "stderr",
          "output_type": "stream",
          "text": [
            "/usr/local/lib/python3.9/dist-packages/scipy/optimize/_minpack_py.py:906: OptimizeWarning: Covariance of the parameters could not be estimated\n",
            "  warnings.warn('Covariance of the parameters could not be estimated',\n"
          ]
        },
        {
          "ename": "ValueError",
          "evalue": "ignored",
          "output_type": "error",
          "traceback": [
            "\u001b[0;31m---------------------------------------------------------------------------\u001b[0m",
            "\u001b[0;31mValueError\u001b[0m                                Traceback (most recent call last)",
            "\u001b[0;32m<ipython-input-19-8c15b28bef2a>\u001b[0m in \u001b[0;36m<cell line: 6>\u001b[0;34m()\u001b[0m\n\u001b[1;32m      4\u001b[0m \u001b[0mpopt\u001b[0m\u001b[0;34m,\u001b[0m \u001b[0m_\u001b[0m \u001b[0;34m=\u001b[0m \u001b[0mcurve_fit\u001b[0m\u001b[0;34m(\u001b[0m\u001b[0mobjective\u001b[0m\u001b[0;34m,\u001b[0m \u001b[0mx\u001b[0m\u001b[0;34m,\u001b[0m \u001b[0my\u001b[0m\u001b[0;34m)\u001b[0m\u001b[0;34m\u001b[0m\u001b[0;34m\u001b[0m\u001b[0m\n\u001b[1;32m      5\u001b[0m \u001b[0;31m# summarize the parameter values\u001b[0m\u001b[0;34m\u001b[0m\u001b[0;34m\u001b[0m\u001b[0m\n\u001b[0;32m----> 6\u001b[0;31m \u001b[0ma\u001b[0m\u001b[0;34m,\u001b[0m \u001b[0mb\u001b[0m \u001b[0;34m=\u001b[0m \u001b[0mpopt\u001b[0m\u001b[0;34m\u001b[0m\u001b[0;34m\u001b[0m\u001b[0m\n\u001b[0m\u001b[1;32m      7\u001b[0m \u001b[0mprint\u001b[0m\u001b[0;34m(\u001b[0m\u001b[0;34m'y = %.5f * x + %.5f'\u001b[0m \u001b[0;34m%\u001b[0m \u001b[0;34m(\u001b[0m\u001b[0ma\u001b[0m\u001b[0;34m,\u001b[0m \u001b[0mb\u001b[0m\u001b[0;34m)\u001b[0m\u001b[0;34m)\u001b[0m\u001b[0;34m\u001b[0m\u001b[0;34m\u001b[0m\u001b[0m\n",
            "\u001b[0;31mValueError\u001b[0m: too many values to unpack (expected 2)"
          ]
        }
      ],
      "source": [
        "...\n",
        "# curve fit\n",
        "from scipy.optimize import curve_fit\n",
        "popt, _ = curve_fit(objective, x, y)\n",
        "# summarize the parameter values\n",
        "a, b = popt\n",
        "print('y = %.5f * x + %.5f' % (a, b))"
      ]
    },
    {
      "cell_type": "code",
      "execution_count": null,
      "metadata": {
        "id": "t5V1rh6q4tIG"
      },
      "outputs": [],
      "source": []
    }
  ],
  "metadata": {
    "colab": {
      "provenance": []
    },
    "kernelspec": {
      "display_name": "Python 3",
      "name": "python3"
    },
    "language_info": {
      "name": "python"
    }
  },
  "nbformat": 4,
  "nbformat_minor": 0
}
